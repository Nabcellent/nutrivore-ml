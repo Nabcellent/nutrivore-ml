{
 "cells": [
  {
   "cell_type": "code",
   "execution_count": 5,
   "id": "initial_id",
   "metadata": {
    "collapsed": true,
    "ExecuteTime": {
     "end_time": "2023-12-07T08:29:50.655908396Z",
     "start_time": "2023-12-07T08:29:50.653371850Z"
    }
   },
   "outputs": [],
   "source": [
    "import polars as pl"
   ]
  },
  {
   "cell_type": "code",
   "execution_count": 18,
   "outputs": [
    {
     "data": {
      "text/plain": "shape: (375_703, 16)\n┌──────────┬────────────┬──────────┬──────────┬───┬────────────┬───────────┬───────────┬───────────┐\n│ RecipeId ┆ Name       ┆ CookTime ┆ PrepTime ┆ … ┆ FiberConte ┆ SugarCont ┆ ProteinCo ┆ RecipeIns │\n│ ---      ┆ ---        ┆ ---      ┆ ---      ┆   ┆ nt         ┆ ent       ┆ ntent     ┆ tructions │\n│ i64      ┆ str        ┆ i64      ┆ i64      ┆   ┆ ---        ┆ ---       ┆ ---       ┆ ---       │\n│          ┆            ┆          ┆          ┆   ┆ f64        ┆ f64       ┆ f64       ┆ str       │\n╞══════════╪════════════╪══════════╪══════════╪═══╪════════════╪═══════════╪═══════════╪═══════════╡\n│ 38       ┆ Low-Fat    ┆ 1440     ┆ 45       ┆ … ┆ 3.6        ┆ 30.2      ┆ 3.2       ┆ c(\"Toss 2 │\n│          ┆ Berry Blue ┆          ┆          ┆   ┆            ┆           ┆           ┆ cups      │\n│          ┆ Frozen     ┆          ┆          ┆   ┆            ┆           ┆           ┆ berries   │\n│          ┆ Desser…    ┆          ┆          ┆   ┆            ┆           ┆           ┆ with      │\n│          ┆            ┆          ┆          ┆   ┆            ┆           ┆           ┆ suga…     │\n│ 41       ┆ Carina's   ┆ 20       ┆ 1440     ┆ … ┆ 17.3       ┆ 32.1      ┆ 29.3      ┆ c(\"Drain  │\n│          ┆ Tofu-Veget ┆          ┆          ┆   ┆            ┆           ┆           ┆ the tofu, │\n│          ┆ able       ┆          ┆          ┆   ┆            ┆           ┆           ┆ carefully │\n│          ┆ Kebabs     ┆          ┆          ┆   ┆            ┆           ┆           ┆ squ…      │\n│ 42       ┆ Cabbage    ┆ 30       ┆ 20       ┆ … ┆ 4.8        ┆ 17.7      ┆ 4.3       ┆ c(\"Mix    │\n│          ┆ Soup       ┆          ┆          ┆   ┆            ┆           ┆           ┆ everythin │\n│          ┆            ┆          ┆          ┆   ┆            ┆           ┆           ┆ g         │\n│          ┆            ┆          ┆          ┆   ┆            ┆           ┆           ┆ together  │\n│          ┆            ┆          ┆          ┆   ┆            ┆           ┆           ┆ and b…    │\n│ 45       ┆ Buttermilk ┆ 50       ┆ 30       ┆ … ┆ 0.5        ┆ 24.7      ┆ 4.2       ┆ c(\"Prehea │\n│          ┆ Pie With   ┆          ┆          ┆   ┆            ┆           ┆           ┆ t oven to │\n│          ┆ Gingersnap ┆          ┆          ┆   ┆            ┆           ┆           ┆ 350°F.\",  │\n│          ┆ C…         ┆          ┆          ┆   ┆            ┆           ┆           ┆ \"Mak…     │\n│ …        ┆ …          ┆ …        ┆ …        ┆ … ┆ …          ┆ …         ┆ …         ┆ …         │\n│ 541376   ┆ Spanish    ┆ 0        ┆ 10       ┆ … ┆ 0.4        ┆ 15.4      ┆ 0.6       ┆ c(\"Cut a  │\n│          ┆ Coffee     ┆          ┆          ┆   ┆            ┆           ┆           ┆ small     │\n│          ┆ with Tia   ┆          ┆          ┆   ┆            ┆           ┆           ┆ slit in   │\n│          ┆ Maria      ┆          ┆          ┆   ┆            ┆           ┆           ┆ the       │\n│          ┆            ┆          ┆          ┆   ┆            ┆           ┆           ┆ lemon…    │\n│ 541377   ┆ Slow-Cooke ┆ 180      ┆ 20       ┆ … ┆ 0.8        ┆ 24.8      ┆ 4.8       ┆ c(\"Line   │\n│          ┆ r Classic  ┆          ┆          ┆   ┆            ┆           ┆           ┆ bottom    │\n│          ┆ Coffee     ┆          ┆          ┆   ┆            ┆           ┆           ┆ and sides │\n│          ┆ Cake       ┆          ┆          ┆   ┆            ┆           ┆           ┆ of 5-qu…  │\n│ 541379   ┆ Meg's      ┆ 35       ┆ 60       ┆ … ┆ 0.8        ┆ 22.8      ┆ 3.9       ┆ c(\"Prehea │\n│          ┆ Fresh      ┆          ┆          ┆   ┆            ┆           ┆           ┆ t oven to │\n│          ┆ Ginger Gin ┆          ┆          ┆   ┆            ┆           ┆           ┆ 350&deg;F │\n│          ┆ gerbread   ┆          ┆          ┆   ┆            ┆           ┆           ┆ Gre…      │\n│ 541382   ┆ Quick &    ┆ 0        ┆ 15       ┆ … ┆ 0.0        ┆ 0.1       ┆ 2.4       ┆ c(\"In a   │\n│          ┆ Easy Asian ┆          ┆          ┆   ┆            ┆           ┆           ┆ small     │\n│          ┆ Cucumber   ┆          ┆          ┆   ┆            ┆           ┆           ┆ bowl,     │\n│          ┆ Salm…      ┆          ┆          ┆   ┆            ┆           ┆           ┆ combine   │\n│          ┆            ┆          ┆          ┆   ┆            ┆           ┆           ┆ mayo…     │\n└──────────┴────────────┴──────────┴──────────┴───┴────────────┴───────────┴───────────┴───────────┘",
      "text/html": "<div><style>\n.dataframe > thead > tr,\n.dataframe > tbody > tr {\n  text-align: right;\n  white-space: pre-wrap;\n}\n</style>\n<small>shape: (375_703, 16)</small><table border=\"1\" class=\"dataframe\"><thead><tr><th>RecipeId</th><th>Name</th><th>CookTime</th><th>PrepTime</th><th>TotalTime</th><th>RecipeIngredientParts</th><th>Calories</th><th>FatContent</th><th>SaturatedFatContent</th><th>CholesterolContent</th><th>SodiumContent</th><th>CarbohydrateContent</th><th>FiberContent</th><th>SugarContent</th><th>ProteinContent</th><th>RecipeInstructions</th></tr><tr><td>i64</td><td>str</td><td>i64</td><td>i64</td><td>i64</td><td>str</td><td>f64</td><td>f64</td><td>f64</td><td>f64</td><td>f64</td><td>f64</td><td>f64</td><td>f64</td><td>f64</td><td>str</td></tr></thead><tbody><tr><td>38</td><td>&quot;Low-Fat Berry …</td><td>1440</td><td>45</td><td>1485</td><td>&quot;c(&quot;blueberries…</td><td>170.9</td><td>2.5</td><td>1.3</td><td>8.0</td><td>29.8</td><td>37.1</td><td>3.6</td><td>30.2</td><td>3.2</td><td>&quot;c(&quot;Toss 2 cups…</td></tr><tr><td>41</td><td>&quot;Carina&#x27;s Tofu-…</td><td>20</td><td>1440</td><td>1460</td><td>&quot;c(&quot;extra firm …</td><td>536.1</td><td>24.0</td><td>3.8</td><td>0.0</td><td>1558.6</td><td>64.2</td><td>17.3</td><td>32.1</td><td>29.3</td><td>&quot;c(&quot;Drain the t…</td></tr><tr><td>42</td><td>&quot;Cabbage Soup&quot;</td><td>30</td><td>20</td><td>50</td><td>&quot;c(&quot;plain tomat…</td><td>103.6</td><td>0.4</td><td>0.1</td><td>0.0</td><td>959.3</td><td>25.1</td><td>4.8</td><td>17.7</td><td>4.3</td><td>&quot;c(&quot;Mix everyth…</td></tr><tr><td>45</td><td>&quot;Buttermilk Pie…</td><td>50</td><td>30</td><td>80</td><td>&quot;c(&quot;sugar&quot;, &quot;ma…</td><td>228.0</td><td>7.1</td><td>1.7</td><td>24.5</td><td>281.8</td><td>37.5</td><td>0.5</td><td>24.7</td><td>4.2</td><td>&quot;c(&quot;Preheat ove…</td></tr><tr><td>46</td><td>&quot;A Jad - Cucumb…</td><td>0</td><td>25</td><td>25</td><td>&quot;c(&quot;rice vinega…</td><td>4.3</td><td>0.0</td><td>0.0</td><td>0.0</td><td>0.7</td><td>1.1</td><td>0.2</td><td>0.2</td><td>0.1</td><td>&quot;c(&quot;Slice the c…</td></tr><tr><td>47</td><td>&quot;Butter Pecan C…</td><td>9</td><td>55</td><td>64</td><td>&quot;c(&quot;butter&quot;, &quot;b…</td><td>69.0</td><td>5.6</td><td>1.4</td><td>6.3</td><td>15.0</td><td>4.5</td><td>0.6</td><td>1.6</td><td>0.8</td><td>&quot;c(&quot;Preheat ove…</td></tr><tr><td>50</td><td>&quot;Biscotti Di Pr…</td><td>50</td><td>20</td><td>70</td><td>&quot;c(&quot;flour&quot;, &quot;su…</td><td>89.4</td><td>2.6</td><td>0.3</td><td>16.6</td><td>23.5</td><td>14.5</td><td>0.8</td><td>7.3</td><td>2.3</td><td>&quot;c(&quot;EGG WASH 1 …</td></tr><tr><td>51</td><td>&quot;Chai Tea&quot;</td><td>25</td><td>15</td><td>40</td><td>&quot;c(&quot;water&quot;, &quot;bl…</td><td>69.2</td><td>3.8</td><td>2.1</td><td>12.8</td><td>53.2</td><td>6.0</td><td>0.7</td><td>0.0</td><td>3.5</td><td>&quot;c(&quot;Bring water…</td></tr><tr><td>52</td><td>&quot;Cafe Cappuccin…</td><td>0</td><td>5</td><td>5</td><td>&quot;c(&quot;instant cof…</td><td>62.2</td><td>0.1</td><td>0.0</td><td>1.3</td><td>36.6</td><td>12.8</td><td>0.0</td><td>11.8</td><td>2.7</td><td>&quot;c(&quot;Stir ingred…</td></tr><tr><td>55</td><td>&quot;Betty Crocker&#x27;…</td><td>120</td><td>5</td><td>125</td><td>&quot;c(&quot;avocados&quot;, …</td><td>415.9</td><td>36.9</td><td>5.4</td><td>0.0</td><td>310.6</td><td>24.9</td><td>17.3</td><td>2.8</td><td>5.5</td><td>&quot;c(&quot;Peel and ma…</td></tr><tr><td>56</td><td>&quot;Buttermilk Pie…</td><td>60</td><td>20</td><td>80</td><td>&quot;c(&quot;butter&quot;, &quot;m…</td><td>395.9</td><td>19.1</td><td>9.8</td><td>101.5</td><td>269.8</td><td>52.2</td><td>0.7</td><td>39.9</td><td>5.0</td><td>&quot;c(&quot;Preheat ove…</td></tr><tr><td>57</td><td>&quot;Black Bean Sal…</td><td>0</td><td>10</td><td>10</td><td>&quot;c(&quot;black beans…</td><td>114.3</td><td>3.8</td><td>0.5</td><td>0.0</td><td>3.7</td><td>15.6</td><td>5.5</td><td>1.4</td><td>5.4</td><td>&quot;c(&quot;Combine all…</td></tr><tr><td>&hellip;</td><td>&hellip;</td><td>&hellip;</td><td>&hellip;</td><td>&hellip;</td><td>&hellip;</td><td>&hellip;</td><td>&hellip;</td><td>&hellip;</td><td>&hellip;</td><td>&hellip;</td><td>&hellip;</td><td>&hellip;</td><td>&hellip;</td><td>&hellip;</td><td>&hellip;</td></tr><tr><td>541361</td><td>&quot;Cookie Cutter …</td><td>15</td><td>15</td><td>30</td><td>&quot;c(&quot;butter&quot;, &quot;c…</td><td>124.2</td><td>7.9</td><td>4.9</td><td>16.4</td><td>55.4</td><td>13.0</td><td>0.6</td><td>6.0</td><td>1.2</td><td>&quot;c(&quot;Preheat ove…</td></tr><tr><td>541363</td><td>&quot;11-Minute Micr…</td><td>11</td><td>15</td><td>26</td><td>&quot;c(&quot;real butter…</td><td>109.8</td><td>4.4</td><td>2.8</td><td>12.3</td><td>48.9</td><td>17.9</td><td>0.0</td><td>14.3</td><td>0.6</td><td>&quot;c(&quot;Line a 9X13…</td></tr><tr><td>541364</td><td>&quot;Christmas Pean…</td><td>8</td><td>12</td><td>20</td><td>&quot;c(&quot;sweetened c…</td><td>119.3</td><td>4.8</td><td>1.4</td><td>3.9</td><td>110.7</td><td>17.1</td><td>0.5</td><td>12.9</td><td>2.8</td><td>&quot;c(&quot;Preheat ove…</td></tr><tr><td>541367</td><td>&quot;Thick Peanut P…</td><td>10</td><td>45</td><td>55</td><td>&quot;c(&quot;plain flour…</td><td>712.9</td><td>25.4</td><td>8.6</td><td>121.4</td><td>503.9</td><td>100.3</td><td>6.0</td><td>20.2</td><td>23.2</td><td>&quot;c(&quot;Add rock su…</td></tr><tr><td>541369</td><td>&quot;Joe&#x27;s Homemade…</td><td>15</td><td>10</td><td>25</td><td>&quot;c(&quot;self-rising…</td><td>460.7</td><td>25.2</td><td>8.9</td><td>20.7</td><td>823.6</td><td>49.2</td><td>1.7</td><td>0.1</td><td>8.2</td><td>&quot;c(&quot;Preheat ove…</td></tr><tr><td>541370</td><td>&quot;Minty Whipped …</td><td>12</td><td>15</td><td>27</td><td>&quot;c(&quot;salted butt…</td><td>62.5</td><td>4.4</td><td>2.8</td><td>10.5</td><td>35.5</td><td>5.3</td><td>0.1</td><td>2.3</td><td>0.6</td><td>&quot;c(&quot;Preheat ove…</td></tr><tr><td>541374</td><td>&quot;MaMa&#x27;s Bean Sa…</td><td>0</td><td>30</td><td>30</td><td>&quot;c(&quot;green beans…</td><td>141.7</td><td>4.0</td><td>0.3</td><td>0.0</td><td>11.7</td><td>22.4</td><td>5.3</td><td>10.0</td><td>5.2</td><td>&quot;c(&quot;Drain and r…</td></tr><tr><td>541375</td><td>&quot;Amazing Ground…</td><td>20</td><td>30</td><td>50</td><td>&quot;c(&quot;hamburger&quot;,…</td><td>422.3</td><td>28.6</td><td>12.6</td><td>106.0</td><td>634.7</td><td>14.1</td><td>1.4</td><td>5.7</td><td>27.3</td><td>&quot;c(&quot;Saute meat …</td></tr><tr><td>541376</td><td>&quot;Spanish Coffee…</td><td>0</td><td>10</td><td>10</td><td>&quot;c(&quot;lemon wedge…</td><td>84.3</td><td>2.1</td><td>1.2</td><td>6.8</td><td>15.7</td><td>16.6</td><td>0.4</td><td>15.4</td><td>0.6</td><td>&quot;c(&quot;Cut a small…</td></tr><tr><td>541377</td><td>&quot;Slow-Cooker Cl…</td><td>180</td><td>20</td><td>200</td><td>&quot;c(&quot;all-purpose…</td><td>358.9</td><td>19.8</td><td>10.5</td><td>103.1</td><td>323.4</td><td>41.5</td><td>0.8</td><td>24.8</td><td>4.8</td><td>&quot;c(&quot;Line bottom…</td></tr><tr><td>541379</td><td>&quot;Meg&#x27;s Fresh Gi…</td><td>35</td><td>60</td><td>95</td><td>&quot;c(&quot;fresh ginge…</td><td>316.6</td><td>12.5</td><td>7.6</td><td>54.4</td><td>278.2</td><td>48.5</td><td>0.8</td><td>22.8</td><td>3.9</td><td>&quot;c(&quot;Preheat ove…</td></tr><tr><td>541382</td><td>&quot;Quick &amp; Easy A…</td><td>0</td><td>15</td><td>15</td><td>&quot;c(&quot;wasabi past…</td><td>16.1</td><td>0.6</td><td>0.1</td><td>2.9</td><td>100.5</td><td>0.3</td><td>0.0</td><td>0.1</td><td>2.4</td><td>&quot;c(&quot;In a small …</td></tr></tbody></table></div>"
     },
     "execution_count": 18,
     "metadata": {},
     "output_type": "execute_result"
    }
   ],
   "source": [
    "df = pl.read_csv(\"dataset.csv\")\n",
    "\n",
    "df"
   ],
   "metadata": {
    "collapsed": false,
    "ExecuteTime": {
     "end_time": "2023-12-07T08:54:21.454449395Z",
     "start_time": "2023-12-07T08:54:19.625869446Z"
    }
   },
   "id": "334bd8046072e064"
  },
  {
   "cell_type": "code",
   "execution_count": null,
   "outputs": [],
   "source": [],
   "metadata": {
    "collapsed": false
   },
   "id": "28ae89591755628a"
  }
 ],
 "metadata": {
  "kernelspec": {
   "display_name": "Python 3",
   "language": "python",
   "name": "python3"
  },
  "language_info": {
   "codemirror_mode": {
    "name": "ipython",
    "version": 2
   },
   "file_extension": ".py",
   "mimetype": "text/x-python",
   "name": "python",
   "nbconvert_exporter": "python",
   "pygments_lexer": "ipython2",
   "version": "2.7.6"
  }
 },
 "nbformat": 4,
 "nbformat_minor": 5
}

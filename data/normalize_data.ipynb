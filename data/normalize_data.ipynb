{
 "cells": [
  {
   "cell_type": "code",
   "execution_count": 5,
   "id": "initial_id",
   "metadata": {
    "collapsed": true,
    "ExecuteTime": {
     "end_time": "2023-12-07T08:29:50.655908396Z",
     "start_time": "2023-12-07T08:29:50.653371850Z"
    }
   },
   "outputs": [],
   "source": [
    "import polars as pl"
   ]
  },
  {
   "cell_type": "code",
   "execution_count": 74,
   "outputs": [
    {
     "data": {
      "text/plain": "shape: (31, 18)\n┌────────────┬────────────┬────────────┬───────────┬───┬─────────┬─────────┬───────────┬───────────┐\n│ name       ┆ category   ┆ descriptio ┆ prep_time ┆ … ┆ iron_mg ┆ zinc_mg ┆ ingredien ┆ instructi │\n│ ---        ┆ ---        ┆ n          ┆ ---       ┆   ┆ ---     ┆ ---     ┆ ts_2      ┆ ons_2     │\n│ str        ┆ str        ┆ ---        ┆ i64       ┆   ┆ f64     ┆ f64     ┆ ---       ┆ ---       │\n│            ┆            ┆ str        ┆           ┆   ┆         ┆         ┆ str       ┆ str       │\n╞════════════╪════════════╪════════════╪═══════════╪═══╪═════════╪═════════╪═══════════╪═══════════╡\n│ Kaimati    ┆ common     ┆ \"Kaimatis  ┆ 20        ┆ … ┆ 2.1     ┆ 0.45    ┆ 1 cup     ┆ <sugar    │\n│ (Fried     ┆ snacks     ┆ get their  ┆           ┆   ┆         ┆         ┆ (187 g)   ┆ syrup>:   │\n│ Dumplings) ┆            ┆ unique     ┆           ┆   ┆         ┆         ┆ white     ┆ Mix the   │\n│            ┆            ┆ flavo…     ┆           ┆   ┆         ┆         ┆ sugar; �  ┆ sugar,    │\n│            ┆            ┆            ┆           ┆   ┆         ┆         ┆ cup…      ┆ wa…       │\n│ Mahamri    ┆ common     ┆ \"This is a ┆ 60        ┆ … ┆ 2.8     ┆ 0.56    ┆ null      ┆ null      │\n│ (Swahili   ┆ snacks     ┆ typical    ┆           ┆   ┆         ┆         ┆           ┆           │\n│ Doughnuts) ┆            ┆ traditiona ┆           ┆   ┆         ┆         ┆           ┆           │\n│            ┆            ┆ l r…       ┆           ┆   ┆         ┆         ┆           ┆           │\n│ Enriched   ┆ common     ┆ A popular  ┆ 45        ┆ … ┆ 3.3     ┆ 0.66    ┆ null      ┆ null      │\n│ Mandazi    ┆ snacks     ┆ snack      ┆           ┆   ┆         ┆         ┆           ┆           │\n│ (East      ┆            ┆ among      ┆           ┆   ┆         ┆         ┆           ┆           │\n│ African D… ┆            ┆ urban      ┆           ┆   ┆         ┆         ┆           ┆           │\n│            ┆            ┆ dwel…      ┆           ┆   ┆         ┆         ┆           ┆           │\n│ Maize      ┆ porridges  ┆ Whole      ┆ 5         ┆ … ┆ 0.3     ┆ 0.33    ┆ null      ┆ null      │\n│ Porridge   ┆            ┆ maize      ┆           ┆   ┆         ┆         ┆           ┆           │\n│ (Uji wa    ┆            ┆ flour has  ┆           ┆   ┆         ┆         ┆           ┆           │\n│ Mahindi)   ┆            ┆ been used  ┆           ┆   ┆         ┆         ┆           ┆           │\n│            ┆            ┆ …          ┆           ┆   ┆         ┆         ┆           ┆           │\n│ …          ┆ …          ┆ …          ┆ …         ┆ … ┆ …       ┆ …       ┆ …         ┆ …         │\n│ Stewed     ┆ root &     ┆ Stewed     ┆ 15        ┆ … ┆ 0.9     ┆ 0.44    ┆ null      ┆ null      │\n│ Potatoes & ┆ banana     ┆ arrowroots ┆           ┆   ┆         ┆         ┆           ┆           │\n│ Arrowroots ┆ dishes     ┆ is a       ┆           ┆   ┆         ┆         ┆           ┆           │\n│            ┆            ┆ nostalgic… ┆           ┆   ┆         ┆         ┆           ┆           │\n│ Yam Stew   ┆ root &     ┆ The        ┆ 20        ┆ … ┆ 0.7     ┆ 0.21    ┆ null      ┆ null      │\n│            ┆ banana     ┆ ancient    ┆           ┆   ┆         ┆         ┆           ┆           │\n│            ┆ dishes     ┆ yam is     ┆           ┆   ┆         ┆         ┆           ┆           │\n│            ┆            ┆ among the  ┆           ┆   ┆         ┆         ┆           ┆           │\n│            ┆            ┆ old…       ┆           ┆   ┆         ┆         ┆           ┆           │\n│ Pumpkins   ┆ root &     ┆ This       ┆ 5         ┆ … ┆ 0.6     ┆ 0.36    ┆ null      ┆ null      │\n│ with       ┆ banana     ┆ sweet,     ┆           ┆   ┆         ┆         ┆           ┆           │\n│ Peanut     ┆ dishes     ┆ buttery    ┆           ┆   ┆         ┆         ┆           ┆           │\n│ Butter     ┆            ┆ recipe is  ┆           ┆   ┆         ┆         ┆           ┆           │\n│            ┆            ┆ an…        ┆           ┆   ┆         ┆         ┆           ┆           │\n│ White      ┆ accompanim ┆ This dish  ┆ 30        ┆ … ┆ 3.9     ┆ 0.61    ┆ null      ┆ null      │\n│ Chapati    ┆ ents       ┆ is common  ┆           ┆   ┆         ┆         ┆           ┆           │\n│            ┆            ┆ in many    ┆           ┆   ┆         ┆         ┆           ┆           │\n│            ┆            ┆ comm…      ┆           ┆   ┆         ┆         ┆           ┆           │\n└────────────┴────────────┴────────────┴───────────┴───┴─────────┴─────────┴───────────┴───────────┘",
      "text/html": "<div><style>\n.dataframe > thead > tr,\n.dataframe > tbody > tr {\n  text-align: right;\n  white-space: pre-wrap;\n}\n</style>\n<small>shape: (31, 18)</small><table border=\"1\" class=\"dataframe\"><thead><tr><th>name</th><th>category</th><th>description</th><th>prep_time</th><th>cook_time</th><th>serves</th><th>ingredients</th><th>instructions</th><th>energy</th><th>fat_g</th><th>carbohydrates_g</th><th>protein_g</th><th>fibre_g</th><th>vitamin_a_mcg</th><th>iron_mg</th><th>zinc_mg</th><th>ingredients_2</th><th>instructions_2</th></tr><tr><td>str</td><td>str</td><td>str</td><td>i64</td><td>i64</td><td>i64</td><td>str</td><td>str</td><td>i16</td><td>f64</td><td>f64</td><td>f64</td><td>f64</td><td>i64</td><td>f64</td><td>f64</td><td>str</td><td>str</td></tr></thead><tbody><tr><td>&quot;Kaimati\n(Fried…</td><td>&quot;common snacks&quot;</td><td>&quot;&quot;Kaimatis get …</td><td>20</td><td>30</td><td>4</td><td>&quot;2 cups (280 g)…</td><td>&quot;Put yeast in a…</td><td>1795</td><td>21.8</td><td>52.8</td><td>4.6</td><td>1.6</td><td>30</td><td>2.1</td><td>0.45</td><td>&quot;1 cup (187 g) …</td><td>&quot;&lt;sugar syrup&gt;:…</td></tr><tr><td>&quot;Mahamri\n(Swahi…</td><td>&quot;common snacks&quot;</td><td>&quot;&quot;This is a typ…</td><td>60</td><td>5</td><td>4</td><td>&quot;3 � cups (525 …</td><td>&quot;Break the coco…</td><td>1728</td><td>22.1</td><td>46.6</td><td>6.0</td><td>2.1</td><td>41</td><td>2.8</td><td>0.56</td><td>null</td><td>null</td></tr><tr><td>&quot;Enriched Manda…</td><td>&quot;common snacks&quot;</td><td>&quot;A popular snac…</td><td>45</td><td>30</td><td>4</td><td>&quot;7 cups (1063 g…</td><td>&quot;Put flour, sal…</td><td>1590</td><td>16.1</td><td>49.9</td><td>7.6</td><td>2.2</td><td>90</td><td>3.3</td><td>0.66</td><td>null</td><td>null</td></tr><tr><td>&quot;Maize Porridge…</td><td>&quot;porridges&quot;</td><td>&quot;Whole maize fl…</td><td>5</td><td>25</td><td>4</td><td>&quot;1 �� cups (236…</td><td>&quot;Put 5 cups of …</td><td>221</td><td>1.1</td><td>8.5</td><td>1.5</td><td>1.1</td><td>7</td><td>0.3</td><td>0.33</td><td>null</td><td>null</td></tr><tr><td>&quot;Sorghum, Finge…</td><td>&quot;porridges&quot;</td><td>&quot;This recipe is…</td><td>5</td><td>30</td><td>4</td><td>&quot;8 tbsp. (83 g)…</td><td>&quot;Mix the whole …</td><td>174</td><td>0.9</td><td>6.3</td><td>1.3</td><td>1.3</td><td>7</td><td>0.5</td><td>0.27</td><td>null</td><td>null</td></tr><tr><td>&quot;Cassava Porrid…</td><td>&quot;porridges&quot;</td><td>&quot;The ancient ca…</td><td>2</td><td>20</td><td>6</td><td>&quot;10 tbsp. (100 …</td><td>&quot;Boil 6 cups of…</td><td>121</td><td>0.0</td><td>6.8</td><td>0.1</td><td>0.3</td><td>0</td><td>0.1</td><td>0.05</td><td>null</td><td>null</td></tr><tr><td>&quot;Pilau (Spiced …</td><td>&quot;rice dishes&quot;</td><td>&quot;Pilau is the k…</td><td>20</td><td>60</td><td>4</td><td>&quot;3 1/3 cups (59…</td><td>&quot;Cut meat into …</td><td>895</td><td>9.4</td><td>24.8</td><td>6.9</td><td>1.1</td><td>5</td><td>1.3</td><td>1.24</td><td>null</td><td>null</td></tr><tr><td>&quot;Mseto wa Mahar…</td><td>&quot;rice dishes&quot;</td><td>&quot;��Mseto wa Mah…</td><td>165</td><td>225</td><td>6</td><td>&quot;3 cups (505 g)…</td><td>&quot;Soak the beans…</td><td>807</td><td>7.9</td><td>23.5</td><td>5.0</td><td>3.8</td><td>3</td><td>1.3</td><td>0.76</td><td>null</td><td>null</td></tr><tr><td>&quot;Mseto wa Ndeng…</td><td>&quot;rice dishes&quot;</td><td>&quot;This recipe is…</td><td>15</td><td>90</td><td>6</td><td>&quot;3 �� cups (621…</td><td>&quot;Boil the green…</td><td>433</td><td>1.3</td><td>18.4</td><td>3.7</td><td>1.5</td><td>1</td><td>0.8</td><td>0.48</td><td>null</td><td>null</td></tr><tr><td>&quot;Mukimo (Fresh …</td><td>&quot;mashed dishes&quot;</td><td>&quot;This is a comm…</td><td>15</td><td>75</td><td>4</td><td>&quot;6 potatoes, un…</td><td>&quot;Peel the potat…</td><td>457</td><td>1.0</td><td>18.5</td><td>3.0</td><td>6.8</td><td>14</td><td>1.6</td><td>0.93</td><td>null</td><td>null</td></tr><tr><td>&quot;Mukimo (Maize,…</td><td>&quot;mashed dishes&quot;</td><td>&quot;This recipe is…</td><td>15</td><td>60</td><td>4</td><td>&quot;10 potatoes, u…</td><td>&quot;Peel, wash and…</td><td>498</td><td>0.7</td><td>20.5</td><td>5.0</td><td>4.8</td><td>4</td><td>2.0</td><td>0.74</td><td>null</td><td>null</td></tr><tr><td>&quot;Mukimo wa Njah…</td><td>&quot;mashed dishes&quot;</td><td>&quot;This is a deli…</td><td>20</td><td>240</td><td>4</td><td>&quot;6 (1.2 kg) pot…</td><td>&quot;Boil 2 �� cups…</td><td>693</td><td>0.6</td><td>26.5</td><td>9.5</td><td>7.2</td><td>0</td><td>3.2</td><td>1.06</td><td>null</td><td>null</td></tr><tr><td>&hellip;</td><td>&hellip;</td><td>&hellip;</td><td>&hellip;</td><td>&hellip;</td><td>&hellip;</td><td>&hellip;</td><td>&hellip;</td><td>&hellip;</td><td>&hellip;</td><td>&hellip;</td><td>&hellip;</td><td>&hellip;</td><td>&hellip;</td><td>&hellip;</td><td>&hellip;</td><td>&hellip;</td><td>&hellip;</td></tr><tr><td>&quot;Stir Fried Goa…</td><td>&quot;meats, fish &amp; …</td><td>&quot;In most cases …</td><td>7</td><td>100</td><td>4</td><td>&quot;1 kg meat, goa…</td><td>&quot;Cut the goat m…</td><td>1597</td><td>23.3</td><td>10.4</td><td>32.1</td><td>1.7</td><td>42</td><td>4.1</td><td>5.74</td><td>null</td><td>null</td></tr><tr><td>&quot;Stir Fried Bee…</td><td>&quot;meats, fish &amp; …</td><td>&quot;Stir fried bee…</td><td>10</td><td>60</td><td>4</td><td>&quot;1 kg beef, raw…</td><td>&quot;Cut the beef i…</td><td>1066</td><td>14.1</td><td>5.0</td><td>26.7</td><td>1.0</td><td>19</td><td>16.4</td><td>5.13</td><td>null</td><td>null</td></tr><tr><td>&quot;\u001CIngokho \u001D (St…</td><td>&quot;poultry&quot;</td><td>&quot;Stewed chicken…</td><td>15</td><td>75</td><td>4</td><td>&quot;1.4 kg chicken…</td><td>&quot;Light a charco…</td><td>883</td><td>12.3</td><td>6.4</td><td>18.3</td><td>1.1</td><td>63</td><td>2.7</td><td>1.01</td><td>null</td><td>null</td></tr><tr><td>&quot;\u001CIngokho \u001D (Fr…</td><td>&quot;poultry&quot;</td><td>&quot; \u001CIngokho \u001D as…</td><td>10</td><td>60</td><td>4</td><td>&quot;1.3 kg whole c…</td><td>&quot;Cut the chicke…</td><td>2218</td><td>35.3</td><td>9.1</td><td>44.6</td><td>0.0</td><td>134</td><td>5.6</td><td>2.13</td><td>null</td><td>null</td></tr><tr><td>&quot;Aluru (Stewed …</td><td>&quot;poultry&quot;</td><td>&quot;Stewed quails …</td><td>12</td><td>60</td><td>4</td><td>&quot;3 quails, whol…</td><td>&quot;Roast the quai…</td><td>809</td><td>14.2</td><td>5.2</td><td>11.3</td><td>0.6</td><td>51</td><td>1.6</td><td>1.24</td><td>null</td><td>null</td></tr><tr><td>&quot;Sukuma Wiki (S…</td><td>&quot;vegetable dish…</td><td>&quot;Sukuma wiki is…</td><td>15</td><td>20</td><td>4</td><td>&quot;sukuma wiki le…</td><td>&quot;Wash the sukum…</td><td>225</td><td>3.2</td><td>2.1</td><td>2.5</td><td>3.8</td><td>112</td><td>2.3</td><td>0.42</td><td>null</td><td>null</td></tr><tr><td>&quot;Stir-fried Cab…</td><td>&quot;vegetable dish…</td><td>&quot;Stir fried cab…</td><td>10</td><td>15</td><td>4</td><td>&quot;1124 g cabbage…</td><td>&quot;Prepare and cu…</td><td>411</td><td>8.6</td><td>3.1</td><td>1.2</td><td>2.4</td><td>0</td><td>0.6</td><td>0.24</td><td>null</td><td>null</td></tr><tr><td>&quot;\u001CMrenda and Se…</td><td>&quot;vegetable dish…</td><td>&quot;This blend of …</td><td>15</td><td>30</td><td>4</td><td>&quot;316 g jute mal…</td><td>&quot;Wash and pluck…</td><td>249</td><td>2.3</td><td>5.4</td><td>3.4</td><td>2.0</td><td>72</td><td>1.8</td><td>0.62</td><td>null</td><td>null</td></tr><tr><td>&quot;Stewed Potatoe…</td><td>&quot;root &amp; banana …</td><td>&quot;Stewed arrowro…</td><td>15</td><td>60</td><td>4</td><td>&quot;9 potatoes, un…</td><td>&quot;Peel and wash …</td><td>380</td><td>2.1</td><td>15.0</td><td>1.9</td><td>1.8</td><td>3</td><td>0.9</td><td>0.44</td><td>null</td><td>null</td></tr><tr><td>&quot;Yam Stew&quot;</td><td>&quot;root &amp; banana …</td><td>&quot;The ancient ya…</td><td>20</td><td>60</td><td>4</td><td>&quot;1 yam, white, …</td><td>&quot;Peel, wash and…</td><td>394</td><td>2.4</td><td>15.3</td><td>1.5</td><td>2.5</td><td>34</td><td>0.7</td><td>0.21</td><td>null</td><td>null</td></tr><tr><td>&quot;Pumpkins with …</td><td>&quot;root &amp; banana …</td><td>&quot;This sweet, bu…</td><td>5</td><td>45</td><td>4</td><td>&quot;1.5 kg pumpkin…</td><td>&quot;Peel and wash …</td><td>359</td><td>5.4</td><td>2.6</td><td>2.6</td><td>2.6</td><td>91</td><td>0.6</td><td>0.36</td><td>null</td><td>null</td></tr><tr><td>&quot;White Chapati&quot;</td><td>&quot;accompaniments…</td><td>&quot;This dish is c…</td><td>30</td><td>30</td><td>6</td><td>&quot;4 1/3 cups (57…</td><td>&quot;Measure flour,…</td><td>1774</td><td>21.1</td><td>49.6</td><td>7.8</td><td>2.5</td><td>59</td><td>3.9</td><td>0.61</td><td>null</td><td>null</td></tr></tbody></table></div>"
     },
     "execution_count": 74,
     "metadata": {},
     "output_type": "execute_result"
    }
   ],
   "source": [
    "df = pl.read_csv(\"kenyan-recipes.csv\")\n",
    "\n",
    "# Extract numerical values\n",
    "df = df.with_columns(\n",
    "    pl.col('energy').str.extract(r'([\\d,]+)\\s+kJ').str.replace(',', '').cast(pl.Int16),\n",
    ")\n",
    "\n",
    "df.write_csv('ke-recipes.csv')\n",
    "\n",
    "df"
   ],
   "metadata": {
    "collapsed": false,
    "ExecuteTime": {
     "end_time": "2023-12-07T10:49:35.651077524Z",
     "start_time": "2023-12-07T10:49:35.628719380Z"
    }
   },
   "id": "28ae89591755628a"
  }
 ],
 "metadata": {
  "kernelspec": {
   "display_name": "Python 3",
   "language": "python",
   "name": "python3"
  },
  "language_info": {
   "codemirror_mode": {
    "name": "ipython",
    "version": 2
   },
   "file_extension": ".py",
   "mimetype": "text/x-python",
   "name": "python",
   "nbconvert_exporter": "python",
   "pygments_lexer": "ipython2",
   "version": "2.7.6"
  }
 },
 "nbformat": 4,
 "nbformat_minor": 5
}
